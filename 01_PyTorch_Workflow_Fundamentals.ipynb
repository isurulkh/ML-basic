{
  "nbformat": 4,
  "nbformat_minor": 0,
  "metadata": {
    "colab": {
      "provenance": [],
      "gpuType": "T4",
      "toc_visible": true
    },
    "kernelspec": {
      "name": "python3",
      "display_name": "Python 3"
    },
    "language_info": {
      "name": "python"
    },
    "accelerator": "GPU"
  },
  "cells": [
    {
      "cell_type": "code",
      "execution_count": null,
      "metadata": {
        "colab": {
          "base_uri": "https://localhost:8080/",
          "height": 35
        },
        "id": "-hHYbyJ1BXna",
        "outputId": "c0c0eef3-adf6-4b6b-af61-fccf76d1d7ed"
      },
      "outputs": [
        {
          "output_type": "execute_result",
          "data": {
            "text/plain": [
              "'2.0.1+cu118'"
            ],
            "application/vnd.google.colaboratory.intrinsic+json": {
              "type": "string"
            }
          },
          "metadata": {},
          "execution_count": 1
        }
      ],
      "source": [
        "import torch\n",
        "from torch import nn # nn contains all of PyTorch's building blocks for neural networks\n",
        "import matplotlib.pyplot as plt\n",
        "\n",
        "# check PyTorch version\n",
        "torch.__version__"
      ]
    },
    {
      "cell_type": "markdown",
      "source": [
        "### Data (preparing and loading)"
      ],
      "metadata": {
        "id": "ly_v15lqGzt3"
      }
    },
    {
      "cell_type": "code",
      "source": [
        "# Create *known* parameters\n",
        "weight = 0.7\n",
        "bias = 0.3\n",
        "\n",
        "# create data\n",
        "start = 0\n",
        "end = 1\n",
        "step = 0.02\n",
        "\n",
        "X = torch.arange(start, end, step).unsqueeze(dim=1)\n",
        "y = weight * X + bias\n",
        "\n",
        "X[:10], y[:10]"
      ],
      "metadata": {
        "colab": {
          "base_uri": "https://localhost:8080/"
        },
        "id": "Jcn7xC9kGcbI",
        "outputId": "73501301-13d1-4cf2-d3a1-881e115f618e"
      },
      "execution_count": null,
      "outputs": [
        {
          "output_type": "execute_result",
          "data": {
            "text/plain": [
              "(tensor([[0.0000],\n",
              "         [0.0200],\n",
              "         [0.0400],\n",
              "         [0.0600],\n",
              "         [0.0800],\n",
              "         [0.1000],\n",
              "         [0.1200],\n",
              "         [0.1400],\n",
              "         [0.1600],\n",
              "         [0.1800]]),\n",
              " tensor([[0.3000],\n",
              "         [0.3140],\n",
              "         [0.3280],\n",
              "         [0.3420],\n",
              "         [0.3560],\n",
              "         [0.3700],\n",
              "         [0.3840],\n",
              "         [0.3980],\n",
              "         [0.4120],\n",
              "         [0.4260]]))"
            ]
          },
          "metadata": {},
          "execution_count": 2
        }
      ]
    },
    {
      "cell_type": "markdown",
      "source": [
        "#### Split data into training and test sets"
      ],
      "metadata": {
        "id": "P7wquJ0mH-m2"
      }
    },
    {
      "cell_type": "code",
      "source": [
        "# Create train/test split\n",
        "train_split = int(0.8 * len(X)) # 80% of data used for training set, 20% for testing\n",
        "X_train, y_train = X[:train_split], y[:train_split]\n",
        "X_test, y_test = X[train_split:], y[train_split:]\n",
        "\n",
        "len(X_train), len(y_train), len(X_test), len(y_test)"
      ],
      "metadata": {
        "colab": {
          "base_uri": "https://localhost:8080/"
        },
        "id": "ZyUYh394Htf6",
        "outputId": "f2eb17d8-7501-44c2-b1bc-a9d6d277233e"
      },
      "execution_count": null,
      "outputs": [
        {
          "output_type": "execute_result",
          "data": {
            "text/plain": [
              "(40, 40, 10, 10)"
            ]
          },
          "metadata": {},
          "execution_count": 3
        }
      ]
    },
    {
      "cell_type": "markdown",
      "source": [
        "#### visualize data"
      ],
      "metadata": {
        "id": "rMpYU0puJmRf"
      }
    },
    {
      "cell_type": "code",
      "source": [
        "def plot_predictions(train_data=X_train,\n",
        "                      train_labels=y_train,\n",
        "                      test_data=X_test,\n",
        "                      test_labels=y_test,\n",
        "                      predictions=None):\n",
        "\n",
        "  \"\"\"\n",
        "  Plots training data, test data and compares predicitions\n",
        "  \"\"\"\n",
        "  plt.figure(figsize=(10,7))\n",
        "\n",
        "  # plot training data in blue\n",
        "  plt.scatter(train_data, train_labels, c='b', s=4, label='Training data')\n",
        "\n",
        "  # plot test data in green\n",
        "  plt.scatter(test_data, test_labels, c='g', s=4, label='Test data')\n",
        "\n",
        "  if predictions is not None:\n",
        "    # Plot the predictions in red (predictions were made on the test data)\n",
        "    plt.scatter(test_data, predictions, c='r', s=4, label='Predictions')\n",
        "\n",
        "  # show the legend\n",
        "  plt.legend(prop={'size': 14})"
      ],
      "metadata": {
        "id": "GftO6Ru6JYoO"
      },
      "execution_count": null,
      "outputs": []
    },
    {
      "cell_type": "code",
      "source": [
        "plot_predictions()"
      ],
      "metadata": {
        "colab": {
          "base_uri": "https://localhost:8080/",
          "height": 550
        },
        "id": "jAD8SmyTLO9q",
        "outputId": "ba24f5f8-3295-4980-87f4-d963d25d00c9"
      },
      "execution_count": null,
      "outputs": [
        {
          "output_type": "display_data",
          "data": {
            "text/plain": [
              "<Figure size 1000x700 with 1 Axes>"
            ],
            "image/png": "[encoded data removed]"
          },
          "metadata": {}
        }
      ]
    },
    {
      "cell_type": "markdown",
      "source": [
        "### Build model"
      ],
      "metadata": {
        "id": "i98XoJElM1ZO"
      }
    },
    {
      "cell_type": "markdown",
      "source": [
        "#### Creating model class"
      ],
      "metadata": {
        "id": "hD09GSloZkJK"
      }
    },
    {
      "cell_type": "code",
      "source": [
        "# Create a Linear Regression model class\n",
        "\n",
        "class LinearRegressionModel(nn.Module):\n",
        "  def __init__(self):\n",
        "    super().__init__()\n",
        "\n",
        "    self.weights = nn.Parameter(torch.randn(1, dtype=torch.float), requires_grad=True)\n",
        "    self.bias = nn.Parameter(torch.randn(1, dtype=torch.float), requires_grad=True)\n",
        "\n",
        "  # Forward defines the computation in the model\n",
        "  def forward(self, x: torch.Tensor) -> torch.Tensor:\n",
        "    return self.weights * x + self.bias"
      ],
      "metadata": {
        "id": "9Zy99bUPLT2v"
      },
      "execution_count": null,
      "outputs": []
    },
    {
      "cell_type": "markdown",
      "source": [
        "#### Check randomly initialized values"
      ],
      "metadata": {
        "id": "NeilgGxAZmog"
      }
    },
    {
      "cell_type": "code",
      "source": [
        "# Set manual seed since nn.Parameter are randomly initialzied\n",
        "torch.manual_seed(42)\n",
        "\n",
        "# Create an instance of the model (this is a subclass of nn.Module that contains nn.Parameter(s))\n",
        "model_0 = LinearRegressionModel()\n",
        "\n",
        "# Check the nn.Parameter(s) within the nn.Module subclass we created\n",
        "list(model_0.parameters())"
      ],
      "metadata": {
        "colab": {
          "base_uri": "https://localhost:8080/"
        },
        "id": "MiviZoumWe_d",
        "outputId": "0dfd5820-a5d5-4ca7-f7ae-00da8e5830e9"
      },
      "execution_count": null,
      "outputs": [
        {
          "output_type": "execute_result",
          "data": {
            "text/plain": [
              "[Parameter containing:\n",
              " tensor([0.3367], requires_grad=True),\n",
              " Parameter containing:\n",
              " tensor([0.1288], requires_grad=True)]"
            ]
          },
          "metadata": {},
          "execution_count": 7
        }
      ]
    },
    {
      "cell_type": "code",
      "source": [
        "# List named parameters\n",
        "model_0.state_dict()"
      ],
      "metadata": {
        "colab": {
          "base_uri": "https://localhost:8080/"
        },
        "id": "GbzpoPyIYrW9",
        "outputId": "1bcf4798-38b4-40e0-e590-724056951043"
      },
      "execution_count": null,
      "outputs": [
        {
          "output_type": "execute_result",
          "data": {
            "text/plain": [
              "OrderedDict([('weights', tensor([0.3367])), ('bias', tensor([0.1288]))])"
            ]
          },
          "metadata": {},
          "execution_count": 8
        }
      ]
    },
    {
      "cell_type": "markdown",
      "source": [
        "#### Making predictions **(without training the model)**"
      ],
      "metadata": {
        "id": "OsNv3MAjZhny"
      }
    },
    {
      "cell_type": "code",
      "source": [
        "# Make predictions with model\n",
        "with torch.inference_mode():\n",
        "  y_preds = model_0(X_test)"
      ],
      "metadata": {
        "id": "BWRNp6bBZCbb"
      },
      "execution_count": null,
      "outputs": []
    },
    {
      "cell_type": "code",
      "source": [
        "# Check the predictions\n",
        "print(f\"Number of testing samples: {len(X_test)}\")\n",
        "print(f\"Number of predictions made: {len(y_preds)}\")\n",
        "print(f\"Predicted values: \\n {y_preds}\")"
      ],
      "metadata": {
        "colab": {
          "base_uri": "https://localhost:8080/"
        },
        "id": "ahAcNVD7Z73-",
        "outputId": "9873138a-d6b3-44c1-c083-6699d9a83a92"
      },
      "execution_count": null,
      "outputs": [
        {
          "output_type": "stream",
          "name": "stdout",
          "text": [
            "Number of testing samples: 10\n",
            "Number of predictions made: 10\n",
            "Predicted values: \n",
            " tensor([[0.3982],\n",
            "        [0.4049],\n",
            "        [0.4116],\n",
            "        [0.4184],\n",
            "        [0.4251],\n",
            "        [0.4318],\n",
            "        [0.4386],\n",
            "        [0.4453],\n",
            "        [0.4520],\n",
            "        [0.4588]])\n"
          ]
        }
      ]
    },
    {
      "cell_type": "code",
      "source": [
        "# plot predicitions which made without training the model\n",
        "plot_predictions(predictions=y_preds)"
      ],
      "metadata": {
        "colab": {
          "base_uri": "https://localhost:8080/",
          "height": 550
        },
        "id": "hvcjgw7-atp5",
        "outputId": "2ce2534c-faf7-47aa-9d15-89504ec05868"
      },
      "execution_count": null,
      "outputs": [
        {
          "output_type": "display_data",
          "data": {
            "text/plain": [
              "<Figure size 1000x700 with 1 Axes>"
            ],
            "image/png": "[encoded data removed]"
          },
          "metadata": {}
        }
      ]
    },
    {
      "cell_type": "code",
      "source": [
        "y_test - y_preds"
      ],
      "metadata": {
        "colab": {
          "base_uri": "https://localhost:8080/"
        },
        "id": "qIe5AoOLbZyx",
        "outputId": "1fffa8f6-f7c6-4048-bdf2-7935d442f456"
      },
      "execution_count": null,
      "outputs": [
        {
          "output_type": "execute_result",
          "data": {
            "text/plain": [
              "tensor([[0.4618],\n",
              "        [0.4691],\n",
              "        [0.4764],\n",
              "        [0.4836],\n",
              "        [0.4909],\n",
              "        [0.4982],\n",
              "        [0.5054],\n",
              "        [0.5127],\n",
              "        [0.5200],\n",
              "        [0.5272]])"
            ]
          },
          "metadata": {},
          "execution_count": 12
        }
      ]
    },
    {
      "cell_type": "markdown",
      "source": [
        "### Train model"
      ],
      "metadata": {
        "id": "eqi_oNHxuWQ4"
      }
    },
    {
      "cell_type": "markdown",
      "source": [
        "#### Setup loss function and Optimizer"
      ],
      "metadata": {
        "id": "JU_5Tzge5VhG"
      }
    },
    {
      "cell_type": "code",
      "source": [
        "# Create the loss function\n",
        "loss_fn = nn.L1Loss() # MAE loss is same as L1Loss\n",
        "\n",
        "# Create the optimizer\n",
        "optimizer = torch.optim.SGD(params=model_0.parameters(), lr=0.01)"
      ],
      "metadata": {
        "id": "eJXlZ8XFuWAo"
      },
      "execution_count": null,
      "outputs": []
    },
    {
      "cell_type": "markdown",
      "source": [
        "#### Creating training and testing loops"
      ],
      "metadata": {
        "id": "DFjLkKnR5j0i"
      }
    },
    {
      "cell_type": "code",
      "source": [
        "torch.manual_seed(42)\n",
        "\n",
        "# set the number of epochs (how many times the model will pass over the training data)\n",
        "epochs = 100\n",
        "\n",
        "# create empty loss lists to track values\n",
        "train_loss_values = []\n",
        "test_loss_values = []\n",
        "epochs_count = []\n",
        "\n",
        "for epoch in range(epochs):\n",
        "\n",
        "  ### training\n",
        "\n",
        "  # put model in training mode\n",
        "  model_0.train()\n",
        "\n",
        "  # 1. forward pass on the train data using the forward()\n",
        "  #left to right pass data\n",
        "  y_pred = model_0(X_train)\n",
        "\n",
        "  # 2. calculate the loss\n",
        "  #calculate the error of forward pass\n",
        "  loss = loss_fn(y_pred, y_train)\n",
        "\n",
        "  # 3. zero grad of the optimizer\n",
        "  optimizer.zero_grad()\n",
        "\n",
        "  # 4. loss backward()\n",
        "  loss.backward()\n",
        "\n",
        "  # 5. progress the optimizer\n",
        "  optimizer.step()\n",
        "\n",
        "  ### testing\n",
        "  model_0.eval()\n",
        "\n",
        "  with torch.inference_mode():\n",
        "    # 1. forward pass on test data\n",
        "    test_pred = model_0(X_test)\n",
        "\n",
        "    # 2. calculate the loss on test data\n",
        "    test_loss = loss_fn(test_pred, y_test.type(torch.float))\n",
        "\n",
        "    # print out the status\n",
        "    if epoch % 10 == 0:\n",
        "      epochs_count.append(epoch)\n",
        "      train_loss_values.append(loss.detach().numpy())\n",
        "      test_loss_values.append(test_loss.detach().numpy())\n",
        "      print(f\"Epoch: {epoch} | MAE train loss: {loss} | MAE test loss: {test_loss}\")"
      ],
      "metadata": {
        "colab": {
          "base_uri": "https://localhost:8080/"
        },
        "id": "pmgpF_dQ3vk3",
        "outputId": "4d0b4e38-d961-48cf-c138-1ef7d7fec29d"
      },
      "execution_count": null,
      "outputs": [
        {
          "output_type": "stream",
          "name": "stdout",
          "text": [
            "Epoch: 0 | MAE train loss: 0.31288138031959534 | MAE test loss: 0.48106518387794495\n",
            "Epoch: 10 | MAE train loss: 0.1976713240146637 | MAE test loss: 0.3463551998138428\n",
            "Epoch: 20 | MAE train loss: 0.08908725529909134 | MAE test loss: 0.21729660034179688\n",
            "Epoch: 30 | MAE train loss: 0.053148526698350906 | MAE test loss: 0.14464017748832703\n",
            "Epoch: 40 | MAE train loss: 0.04543796554207802 | MAE test loss: 0.11360953003168106\n",
            "Epoch: 50 | MAE train loss: 0.04167863354086876 | MAE test loss: 0.09919948130846024\n",
            "Epoch: 60 | MAE train loss: 0.03818932920694351 | MAE test loss: 0.08886633068323135\n",
            "Epoch: 70 | MAE train loss: 0.03476089984178543 | MAE test loss: 0.0805937647819519\n",
            "Epoch: 80 | MAE train loss: 0.03132382780313492 | MAE test loss: 0.07232122868299484\n",
            "Epoch: 90 | MAE train loss: 0.02788739837706089 | MAE test loss: 0.06473556160926819\n"
          ]
        }
      ]
    },
    {
      "cell_type": "markdown",
      "source": [
        "#### Ploting loss function"
      ],
      "metadata": {
        "id": "QbcUFNQV94kk"
      }
    },
    {
      "cell_type": "code",
      "source": [
        "# plot the loss curves\n",
        "plt.plot(epochs_count, train_loss_values, label='Train loss')\n",
        "plt.plot(epochs_count, test_loss_values, label='Test loss')\n",
        "plt.title('Training and test loss curves')\n",
        "plt.xlabel('Epochs')\n",
        "plt.ylabel('Loss')\n",
        "plt.legend()"
      ],
      "metadata": {
        "colab": {
          "base_uri": "https://localhost:8080/",
          "height": 489
        },
        "id": "yoprLA7b9wnV",
        "outputId": "47a9357e-8d3b-4b32-883b-6b419b91ddad"
      },
      "execution_count": null,
      "outputs": [
        {
          "output_type": "execute_result",
          "data": {
            "text/plain": [
              "<matplotlib.legend.Legend at 0x7c29245e8940>"
            ]
          },
          "metadata": {},
          "execution_count": 15
        },
        {
          "output_type": "display_data",
          "data": {
            "text/plain": [
              "<Figure size 640x480 with 1 Axes>"
            ],
            "image/png": "[encoded data removed]"
          },
          "metadata": {}
        }
      ]
    },
    {
      "cell_type": "code",
      "source": [
        "# Find our model's learned parameters\n",
        "print(\"The model learned following values for weights and bias:\")\n",
        "print(model_0.state_dict())\n",
        "print('\\nAnd original values for weights and bias are:')\n",
        "print(f'Weights: {weight}, bias: {bias}')"
      ],
      "metadata": {
        "colab": {
          "base_uri": "https://localhost:8080/"
        },
        "id": "BGcCE0p__zs0",
        "outputId": "22a2926e-ed92-43ec-eff7-b883bb51715a"
      },
      "execution_count": null,
      "outputs": [
        {
          "output_type": "stream",
          "name": "stdout",
          "text": [
            "The model learned following values for weights and bias:\n",
            "OrderedDict([('weights', tensor([0.5784])), ('bias', tensor([0.3513]))])\n",
            "\n",
            "And original values for weights and bias are:\n",
            "Weights: 0.7, bias: 0.3\n"
          ]
        }
      ]
    },
    {
      "cell_type": "markdown",
      "source": [
        "### Making predictions with a trained PyTorch model (inference)"
      ],
      "metadata": {
        "id": "0j7o8QNklq2v"
      }
    },
    {
      "cell_type": "code",
      "source": [
        "# 1. Set the model in evaluation mode\n",
        "model_0.eval()\n",
        "\n",
        "# 2. Setup the inference mode context manager\n",
        "with torch.inference_mode():\n",
        "  y_preds = model_0(X_test)\n",
        "y_preds"
      ],
      "metadata": {
        "id": "RPgCmFyClZ-o",
        "colab": {
          "base_uri": "https://localhost:8080/"
        },
        "outputId": "be3f5b37-e651-4a20-bc0b-d905e6ed9d9d"
      },
      "execution_count": null,
      "outputs": [
        {
          "output_type": "execute_result",
          "data": {
            "text/plain": [
              "tensor([[0.8141],\n",
              "        [0.8256],\n",
              "        [0.8372],\n",
              "        [0.8488],\n",
              "        [0.8603],\n",
              "        [0.8719],\n",
              "        [0.8835],\n",
              "        [0.8950],\n",
              "        [0.9066],\n",
              "        [0.9182]])"
            ]
          },
          "metadata": {},
          "execution_count": 17
        }
      ]
    },
    {
      "cell_type": "code",
      "source": [
        "plot_predictions(predictions=y_preds)"
      ],
      "metadata": {
        "colab": {
          "base_uri": "https://localhost:8080/",
          "height": 550
        },
        "id": "BTwGJywDF0cw",
        "outputId": "3fcac1ca-5832-4717-ba66-b92ae80b9722"
      },
      "execution_count": null,
      "outputs": [
        {
          "output_type": "display_data",
          "data": {
            "text/plain": [
              "<Figure size 1000x700 with 1 Axes>"
            ],
            "image/png": "[encoded data removed]"
          },
          "metadata": {}
        }
      ]
    },
    {
      "cell_type": "markdown",
      "source": [
        "### Saving and loading a PyTorch model"
      ],
      "metadata": {
        "id": "2wesdf04HJ_3"
      }
    },
    {
      "cell_type": "markdown",
      "source": [
        "#### Saving a PyTorch model's state_dict()"
      ],
      "metadata": {
        "id": "b7iFZf51H_I_"
      }
    },
    {
      "cell_type": "code",
      "source": [
        "from pathlib import Path\n",
        "\n",
        "# 1. create models directory\n",
        "MODEL_PATH = Path(\"models\")\n",
        "MODEL_PATH.mkdir(parents=True, exist_ok=True)\n",
        "\n",
        "# 2. create model save path\n",
        "MODEL_NAME = \"01_pytorch_workflow_model_0.pth\"\n",
        "MODEL_SAVE_PATH = MODEL_PATH / MODEL_NAME\n",
        "\n",
        "# 3. save the model state dict\n",
        "print(f\"Saving model to: {MODEL_SAVE_PATH}\")\n",
        "torch.save(obj=model_0.state_dict(), f=MODEL_SAVE_PATH)"
      ],
      "metadata": {
        "colab": {
          "base_uri": "https://localhost:8080/"
        },
        "id": "L3R1BMUaGZtY",
        "outputId": "cb22da6c-aaef-4dc9-99e4-440562231d8d"
      },
      "execution_count": null,
      "outputs": [
        {
          "output_type": "stream",
          "name": "stdout",
          "text": [
            "Saving model to: models/01_pytorch_workflow_model_0.pth\n"
          ]
        }
      ]
    },
    {
      "cell_type": "code",
      "source": [
        "# check the saved file path\n",
        "!ls -l models/01_pytorch_workflow_model_0.pth"
      ],
      "metadata": {
        "colab": {
          "base_uri": "https://localhost:8080/"
        },
        "id": "YKXw683ZHu0p",
        "outputId": "83986b75-e523-4ce4-9adb-76cf19c8802a"
      },
      "execution_count": null,
      "outputs": [
        {
          "output_type": "stream",
          "name": "stdout",
          "text": [
            "-rw-r--r-- 1 root root 1207 Aug 28 09:27 models/01_pytorch_workflow_model_0.pth\n"
          ]
        }
      ]
    },
    {
      "cell_type": "markdown",
      "source": [
        "### Loading a saved PyTorch model's state_dict()"
      ],
      "metadata": {
        "id": "TbDrVgchJRdR"
      }
    },
    {
      "cell_type": "code",
      "source": [
        "# Instantiate a new instance of our model (this will be instantiated with random weights)\n",
        "loaded_model_0 = LinearRegressionModel()\n",
        "\n",
        "# Load the state_dict of our saved model (this will update the new instance of our model with trained weights)\n",
        "loaded_model_0.load_state_dict(torch.load(f=MODEL_SAVE_PATH))"
      ],
      "metadata": {
        "colab": {
          "base_uri": "https://localhost:8080/"
        },
        "id": "7L4ucZ-kJIxc",
        "outputId": "1607649b-8dd5-4d46-dec8-b44f240e7daa"
      },
      "execution_count": null,
      "outputs": [
        {
          "output_type": "execute_result",
          "data": {
            "text/plain": [
              "<All keys matched successfully>"
            ]
          },
          "metadata": {},
          "execution_count": 21
        }
      ]
    },
    {
      "cell_type": "markdown",
      "source": [
        "#### Test the loaded model with test data"
      ],
      "metadata": {
        "id": "hmoDz45uTtvX"
      }
    },
    {
      "cell_type": "code",
      "source": [
        "# 1. Put the loaded model into evaluation mode\n",
        "loaded_model_0.eval()\n",
        "\n",
        "# 2. Use the inference mode context manager to make predictions\n",
        "with torch.inference_mode():\n",
        "  loaded_model_preds = loaded_model_0(X_test)"
      ],
      "metadata": {
        "id": "57zdWaCETihk"
      },
      "execution_count": null,
      "outputs": []
    },
    {
      "cell_type": "code",
      "source": [
        "# Compare previous model predictions with loaded model predictions (these should be the same)\n",
        "y_preds == loaded_model_preds"
      ],
      "metadata": {
        "colab": {
          "base_uri": "https://localhost:8080/"
        },
        "id": "6rS9T5cyUDk8",
        "outputId": "baaf48f1-54f0-42cd-dab8-e27375e77b73"
      },
      "execution_count": null,
      "outputs": [
        {
          "output_type": "execute_result",
          "data": {
            "text/plain": [
              "tensor([[True],\n",
              "        [True],\n",
              "        [True],\n",
              "        [True],\n",
              "        [True],\n",
              "        [True],\n",
              "        [True],\n",
              "        [True],\n",
              "        [True],\n",
              "        [True]])"
            ]
          },
          "metadata": {},
          "execution_count": 23
        }
      ]
    },
    {
      "cell_type": "markdown",
      "source": [
        "### Putting it all together"
      ],
      "metadata": {
        "id": "GdIHa0MAUUxX"
      }
    },
    {
      "cell_type": "markdown",
      "source": [
        "#### Setup"
      ],
      "metadata": {
        "id": "0XIGRQhUpBUs"
      }
    },
    {
      "cell_type": "code",
      "source": [
        "# Import PyTorch and matplotlib\n",
        "import torch\n",
        "from torch import nn\n",
        "import matplotlib.pyplot as plt\n",
        "\n",
        "# check PyTorch version\n",
        "torch.__version__"
      ],
      "metadata": {
        "colab": {
          "base_uri": "https://localhost:8080/",
          "height": 35
        },
        "id": "lj557521UI9h",
        "outputId": "7f5a6e1c-aa3f-4260-8ce8-33ede269427c"
      },
      "execution_count": null,
      "outputs": [
        {
          "output_type": "execute_result",
          "data": {
            "text/plain": [
              "'2.0.1+cu118'"
            ],
            "application/vnd.google.colaboratory.intrinsic+json": {
              "type": "string"
            }
          },
          "metadata": {},
          "execution_count": 24
        }
      ]
    },
    {
      "cell_type": "code",
      "source": [
        "# device agnostic code\n",
        "device = 'cuda' if torch.cuda.is_available() else 'cpu'\n",
        "print(f\"Using device: {device}\")"
      ],
      "metadata": {
        "colab": {
          "base_uri": "https://localhost:8080/"
        },
        "id": "hHVC4IYhosoy",
        "outputId": "c05253f7-c8d4-4a85-ebc1-37fe78c16a17"
      },
      "execution_count": null,
      "outputs": [
        {
          "output_type": "stream",
          "name": "stdout",
          "text": [
            "Using device: cuda\n"
          ]
        }
      ]
    },
    {
      "cell_type": "markdown",
      "source": [
        "#### Data"
      ],
      "metadata": {
        "id": "okRlsYAXpDYU"
      }
    },
    {
      "cell_type": "code",
      "source": [
        "# Create weight and bias\n",
        "weight = 0.7\n",
        "bias = 0.3\n",
        "\n",
        "# create the range\n",
        "start = 0\n",
        "end = 1\n",
        "step = 0.02\n",
        "\n",
        "# create x and y\n",
        "X = torch.arange(start, end, step).unsqueeze(dim=1)\n",
        "y = weight * X + bias\n",
        "X[:10], y[:10]"
      ],
      "metadata": {
        "colab": {
          "base_uri": "https://localhost:8080/"
        },
        "id": "KOrrV5xeo59L",
        "outputId": "6eae7920-eea2-40ec-9f8d-15aeb7d52fad"
      },
      "execution_count": null,
      "outputs": [
        {
          "output_type": "execute_result",
          "data": {
            "text/plain": [
              "(tensor([[0.0000],\n",
              "         [0.0200],\n",
              "         [0.0400],\n",
              "         [0.0600],\n",
              "         [0.0800],\n",
              "         [0.1000],\n",
              "         [0.1200],\n",
              "         [0.1400],\n",
              "         [0.1600],\n",
              "         [0.1800]]),\n",
              " tensor([[0.3000],\n",
              "         [0.3140],\n",
              "         [0.3280],\n",
              "         [0.3420],\n",
              "         [0.3560],\n",
              "         [0.3700],\n",
              "         [0.3840],\n",
              "         [0.3980],\n",
              "         [0.4120],\n",
              "         [0.4260]]))"
            ]
          },
          "metadata": {},
          "execution_count": 26
        }
      ]
    },
    {
      "cell_type": "code",
      "source": [
        "# Split data\n",
        "train_split = int(0.8 * len(X))\n",
        "X_train, y_train = X[:train_split], y[:train_split]\n",
        "X_test, y_test = X[train_split:], y[train_split:]\n",
        "\n",
        "len(X_train), len(y_train), len(X_test), len(y_test)"
      ],
      "metadata": {
        "colab": {
          "base_uri": "https://localhost:8080/"
        },
        "id": "r4FCbY0Npd9p",
        "outputId": "f3b1dec3-c632-4b91-ca04-3495a7466467"
      },
      "execution_count": null,
      "outputs": [
        {
          "output_type": "execute_result",
          "data": {
            "text/plain": [
              "(40, 40, 10, 10)"
            ]
          },
          "metadata": {},
          "execution_count": 27
        }
      ]
    },
    {
      "cell_type": "code",
      "source": [
        "# plot dataset\n",
        "plot_predictions(X_train, y_train, X_test, y_test)"
      ],
      "metadata": {
        "colab": {
          "base_uri": "https://localhost:8080/",
          "height": 550
        },
        "id": "255rvYimpmut",
        "outputId": "5b20c594-75ec-46f7-a393-4b81b085b039"
      },
      "execution_count": null,
      "outputs": [
        {
          "output_type": "display_data",
          "data": {
            "text/plain": [
              "<Figure size 1000x700 with 1 Axes>"
            ],
            "image/png": "[encoded data removed]"
          },
          "metadata": {}
        }
      ]
    },
    {
      "cell_type": "markdown",
      "source": [
        "#### Building a PyTorch linear model"
      ],
      "metadata": {
        "id": "8j5IZ52fp2Gr"
      }
    },
    {
      "cell_type": "code",
      "source": [
        "# Subclass nn.Module to make our model\n",
        "class LinearRegressionModelV2(nn.Module):\n",
        "  def __init__(self):\n",
        "    super().__init__()\n",
        "    # Use nn.Linear() for creating the model parameters\n",
        "    self.linear_layer = nn.Linear(in_features=1, out_features=1)\n",
        "\n",
        "  # define the forward computation\n",
        "  def forward(self, x: torch.Tensor) -> torch.Tensor:\n",
        "    return self.linear_layer(x)\n",
        "\n",
        "# set manual seed\n",
        "torch.manual_seed(42)\n",
        "model_1 = LinearRegressionModelV2()\n",
        "model_1, model_1.state_dict()"
      ],
      "metadata": {
        "colab": {
          "base_uri": "https://localhost:8080/"
        },
        "id": "rRq2U0zvpxY2",
        "outputId": "3603a386-4281-438b-f7d4-51c38f606474"
      },
      "execution_count": null,
      "outputs": [
        {
          "output_type": "execute_result",
          "data": {
            "text/plain": [
              "(LinearRegressionModelV2(\n",
              "   (linear_layer): Linear(in_features=1, out_features=1, bias=True)\n",
              " ),\n",
              " OrderedDict([('linear_layer.weight', tensor([[0.7645]])),\n",
              "              ('linear_layer.bias', tensor([0.8300]))]))"
            ]
          },
          "metadata": {},
          "execution_count": 29
        }
      ]
    },
    {
      "cell_type": "code",
      "source": [
        "# Check model device\n",
        "next(model_1.parameters()).device"
      ],
      "metadata": {
        "colab": {
          "base_uri": "https://localhost:8080/"
        },
        "id": "ymBQzqZ4rHGz",
        "outputId": "c7ea293b-0a46-41cc-9574-41a2c8d2365b"
      },
      "execution_count": null,
      "outputs": [
        {
          "output_type": "execute_result",
          "data": {
            "text/plain": [
              "device(type='cpu')"
            ]
          },
          "metadata": {},
          "execution_count": 30
        }
      ]
    },
    {
      "cell_type": "code",
      "source": [
        "# Set model to GPU if it's availalble, otherwise it'll default to CPU\n",
        "model_1.to(device)\n",
        "next(model_1.parameters()).device"
      ],
      "metadata": {
        "colab": {
          "base_uri": "https://localhost:8080/"
        },
        "id": "psKPMvm3re_T",
        "outputId": "eb46cd28-f8ed-42bf-d280-4fe90f28af40"
      },
      "execution_count": null,
      "outputs": [
        {
          "output_type": "execute_result",
          "data": {
            "text/plain": [
              "device(type='cuda', index=0)"
            ]
          },
          "metadata": {},
          "execution_count": 31
        }
      ]
    },
    {
      "cell_type": "markdown",
      "source": [
        "#### Training"
      ],
      "metadata": {
        "id": "OUai_QV-r3AQ"
      }
    },
    {
      "cell_type": "code",
      "source": [
        "# create loss function\n",
        "loss_fn = nn.L1Loss()\n",
        "\n",
        "# create optimizer\n",
        "optimizer = torch.optim.SGD(params=model_1.parameters(), lr=0.01)"
      ],
      "metadata": {
        "id": "KhDgBwlQrm8V"
      },
      "execution_count": null,
      "outputs": []
    },
    {
      "cell_type": "code",
      "source": [
        "torch.manual_seed(42)\n",
        "\n",
        "# set the number of epochs\n",
        "epochs = 1000\n",
        "\n",
        "# put data on the target device\n",
        "X_train = X_train.to(device)\n",
        "X_test = X_test.to(device)\n",
        "y_train = y_train.to(device)\n",
        "y_test = y_test.to(device)\n",
        "\n",
        "for epoch in range(epochs):\n",
        "  ### Training\n",
        "  model_1.train()\n",
        "\n",
        "  # 1. forward pass\n",
        "  y_pred = model_1(X_train)\n",
        "\n",
        "  # 2. calculate the loss\n",
        "  loss = loss_fn(y_pred, y_train)\n",
        "\n",
        "  # 3. zero grad optimizer\n",
        "  optimizer.zero_grad()\n",
        "\n",
        "  # 4. loss backward\n",
        "  loss.backward()\n",
        "\n",
        "  # 5. optimizer step\n",
        "  optimizer.step()\n",
        "\n",
        "  ### Testing\n",
        "  model_1.eval()\n",
        "\n",
        "  with torch.inference_mode():\n",
        "    # 1. forward pass on test data\n",
        "    test_pred = model_1(X_test)\n",
        "\n",
        "    # 2. calculate the loss\n",
        "    test_loss = loss_fn(test_pred, y_test)\n",
        "\n",
        "  if epoch % 100 == 0:\n",
        "    print(f\"Epoch: {epoch} | Train loss: {loss} | Test loss: {test_loss} \")"
      ],
      "metadata": {
        "colab": {
          "base_uri": "https://localhost:8080/"
        },
        "id": "EJ4mjvcY3Fn9",
        "outputId": "90cc3db9-f142-4a6d-e4c4-834f2a02b322"
      },
      "execution_count": null,
      "outputs": [
        {
          "output_type": "stream",
          "name": "stdout",
          "text": [
            "Epoch: 0 | Train loss: 0.5551779866218567 | Test loss: 0.5739762187004089 \n",
            "Epoch: 100 | Train loss: 0.006215683650225401 | Test loss: 0.014086711220443249 \n",
            "Epoch: 200 | Train loss: 0.0012645035749301314 | Test loss: 0.013801801018416882 \n",
            "Epoch: 300 | Train loss: 0.0012645035749301314 | Test loss: 0.013801801018416882 \n",
            "Epoch: 400 | Train loss: 0.0012645035749301314 | Test loss: 0.013801801018416882 \n",
            "Epoch: 500 | Train loss: 0.0012645035749301314 | Test loss: 0.013801801018416882 \n",
            "Epoch: 600 | Train loss: 0.0012645035749301314 | Test loss: 0.013801801018416882 \n",
            "Epoch: 700 | Train loss: 0.0012645035749301314 | Test loss: 0.013801801018416882 \n",
            "Epoch: 800 | Train loss: 0.0012645035749301314 | Test loss: 0.013801801018416882 \n",
            "Epoch: 900 | Train loss: 0.0012645035749301314 | Test loss: 0.013801801018416882 \n"
          ]
        }
      ]
    },
    {
      "cell_type": "code",
      "source": [
        "# Find our model's learned parameters\n",
        "from pprint import pprint\n",
        "print(\"The model learned the following values for weights and bias:\")\n",
        "print(model_1.state_dict())\n",
        "print(\"\\nAnd the original values for weight and bias are: \")\n",
        "print(f\"Weights: {weight}, bias: {bias}\")"
      ],
      "metadata": {
        "colab": {
          "base_uri": "https://localhost:8080/"
        },
        "id": "uhoKwZzh44kl",
        "outputId": "1a9dca04-593c-4944-b4fd-612cd56636af"
      },
      "execution_count": null,
      "outputs": [
        {
          "output_type": "stream",
          "name": "stdout",
          "text": [
            "The model learned the following values for weights and bias:\n",
            "OrderedDict([('linear_layer.weight', tensor([[0.6968]], device='cuda:0')), ('linear_layer.bias', tensor([0.3025], device='cuda:0'))])\n",
            "\n",
            "And the original values for weight and bias are: \n",
            "Weights: 0.7, bias: 0.3\n"
          ]
        }
      ]
    },
    {
      "cell_type": "markdown",
      "source": [
        "#### Making predictions"
      ],
      "metadata": {
        "id": "IaC3kH2A53ls"
      }
    },
    {
      "cell_type": "code",
      "source": [
        "# Turn model into evaluation mode\n",
        "model_1.eval()\n",
        "\n",
        "# Make predictions on the test data\n",
        "with torch.inference_mode():\n",
        "  y_pred = model_1(X_test)\n",
        "\n",
        "y_pred"
      ],
      "metadata": {
        "colab": {
          "base_uri": "https://localhost:8080/"
        },
        "id": "9rXaBy-H5jUM",
        "outputId": "3ad021d8-f12d-4769-971b-2f0d26b21861"
      },
      "execution_count": null,
      "outputs": [
        {
          "output_type": "execute_result",
          "data": {
            "text/plain": [
              "tensor([[0.8600],\n",
              "        [0.8739],\n",
              "        [0.8878],\n",
              "        [0.9018],\n",
              "        [0.9157],\n",
              "        [0.9296],\n",
              "        [0.9436],\n",
              "        [0.9575],\n",
              "        [0.9714],\n",
              "        [0.9854]], device='cuda:0')"
            ]
          },
          "metadata": {},
          "execution_count": 35
        }
      ]
    },
    {
      "cell_type": "code",
      "source": [
        "# plot_predictions(predictions=y_preds) # -> won't work... data not on CPU\n",
        "\n",
        "# put data on cpu and plot it\n",
        "plot_predictions(predictions=y_pred.cpu())"
      ],
      "metadata": {
        "colab": {
          "base_uri": "https://localhost:8080/",
          "height": 550
        },
        "id": "A5mAmU-M6Ick",
        "outputId": "042118de-dd16-4cb8-be1b-e9f0b2715de8"
      },
      "execution_count": null,
      "outputs": [
        {
          "output_type": "display_data",
          "data": {
            "text/plain": [
              "<Figure size 1000x700 with 1 Axes>"
            ],
            "image/png": "[encoded data removed]"
          },
          "metadata": {}
        }
      ]
    },
    {
      "cell_type": "markdown",
      "source": [
        "#### Saving and loading a model"
      ],
      "metadata": {
        "id": "xivFmZLhCU1B"
      }
    },
    {
      "cell_type": "code",
      "source": [
        "from pathlib import Path\n",
        "\n",
        "# 1. Create models directory\n",
        "MODEL_PATH = Path(\"models\")\n",
        "MODEL_PATH.mkdir(parents=True, exist_ok=True)\n",
        "\n",
        "# 2. Create model save path\n",
        "MODEL_NAME = \"01_pytorch_workflow_model_1.pth\"\n",
        "MODEL_SAVE_PATH = MODEL_PATH / MODEL_NAME\n",
        "\n",
        "# 3. Save the model state dict\n",
        "print(f\"Saving model to: {MODEL_SAVE_PATH}\")\n",
        "torch.save(obj=model_1.state_dict(), f=MODEL_SAVE_PATH)"
      ],
      "metadata": {
        "colab": {
          "base_uri": "https://localhost:8080/"
        },
        "id": "V0JSQYEn6w7f",
        "outputId": "25a1e15d-cde0-4b89-93cd-671a73bc0ced"
      },
      "execution_count": null,
      "outputs": [
        {
          "output_type": "stream",
          "name": "stdout",
          "text": [
            "Saving model to: models/01_pytorch_workflow_model_1.pth\n"
          ]
        }
      ]
    },
    {
      "cell_type": "code",
      "source": [
        "# Instantiate a fresh instance of LinearRegressionModelV2\n",
        "loaded_model_1 = LinearRegressionModelV2()\n",
        "\n",
        "# load model state dict\n",
        "loaded_model_1.load_state_dict(torch.load(MODEL_SAVE_PATH))\n",
        "\n",
        "# put model in the target device\n",
        "loaded_model_1.to(device)\n",
        "\n",
        "print(f\"Loaded model: \\n{loaded_model_1}\")\n",
        "print(f\"Model on device: \\n{next(loaded_model_1.parameters()).device}\")"
      ],
      "metadata": {
        "colab": {
          "base_uri": "https://localhost:8080/"
        },
        "id": "wpIDQPU0Cb6Y",
        "outputId": "f61f9c5e-3134-462b-db1b-57dd47bfb475"
      },
      "execution_count": null,
      "outputs": [
        {
          "output_type": "stream",
          "name": "stdout",
          "text": [
            "Loaded model: \n",
            "LinearRegressionModelV2(\n",
            "  (linear_layer): Linear(in_features=1, out_features=1, bias=True)\n",
            ")\n",
            "Model on device: \n",
            "cuda:0\n"
          ]
        }
      ]
    },
    {
      "cell_type": "code",
      "source": [
        "# Evaluate loaded model\n",
        "loaded_model_1.eval()\n",
        "\n",
        "with torch.inference_mode():\n",
        "  loaded_model_1_preds = loaded_model_1(X_test)\n",
        "\n",
        "y_pred == loaded_model_1_preds"
      ],
      "metadata": {
        "colab": {
          "base_uri": "https://localhost:8080/"
        },
        "id": "ClShWc72ExHt",
        "outputId": "842445ee-0503-4002-d3ab-5708294251e7"
      },
      "execution_count": null,
      "outputs": [
        {
          "output_type": "execute_result",
          "data": {
            "text/plain": [
              "tensor([[True],\n",
              "        [True],\n",
              "        [True],\n",
              "        [True],\n",
              "        [True],\n",
              "        [True],\n",
              "        [True],\n",
              "        [True],\n",
              "        [True],\n",
              "        [True]], device='cuda:0')"
            ]
          },
          "metadata": {},
          "execution_count": 39
        }
      ]
    }
  ]
}